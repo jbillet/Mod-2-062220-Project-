{
 "cells": [
  {
   "cell_type": "markdown",
   "metadata": {},
   "source": [
    "# NYC AirBnb Price Predictions"
   ]
  },
  {
   "cell_type": "markdown",
   "metadata": {},
   "source": [
    "## Introduction:"
   ]
  },
  {
   "cell_type": "markdown",
   "metadata": {},
   "source": [
    "For this project, I picked a data set of 48,000 Airbnb listings in New York City from Kaggle. Throughout this project, I utilized that data set to predict the continuouis variable: Price."
   ]
  },
  {
   "cell_type": "markdown",
   "metadata": {},
   "source": [
    "## Objective:"
   ]
  },
  {
   "cell_type": "markdown",
   "metadata": {},
   "source": [
    "The objective of this project was to take a look at multiple features including, but not limited to: Minimum Nights Stayed, Neighborhood Groups (Boroughs), Neighborhoods, Room Type, and Reviews to see how these independent variables impact the target variable: Price. "
   ]
  },
  {
   "cell_type": "markdown",
   "metadata": {},
   "source": [
    "## The Dataset:"
   ]
  },
  {
   "cell_type": "markdown",
   "metadata": {},
   "source": [
    "Kaggle was utilized in sourcing this dataset."
   ]
  },
  {
   "cell_type": "markdown",
   "metadata": {},
   "source": [
    "## Skills Required:"
   ]
  },
  {
   "cell_type": "markdown",
   "metadata": {},
   "source": [
    "The skills used to complete this project consisted of working with Python to make visualizations using Pandas and cleaning the data set well. Also understanding & knowing how to interpret various regression models based on feature engineering & selection."
   ]
  },
  {
   "cell_type": "markdown",
   "metadata": {},
   "source": [
    "## Questions Asked:"
   ]
  },
  {
   "cell_type": "markdown",
   "metadata": {},
   "source": [
    "Is there a correlation between Price & Room Type? Is there a correlation between Price & Neighborhood Group (Boroughs)? What is the relationship between Room Type and Neighborhoods? Which features can I add to this dataset to enhance my model? Which features can I utilize during modeling to enhance my model?"
   ]
  },
  {
   "cell_type": "markdown",
   "metadata": {},
   "source": [
    "## How I Organized The Data:"
   ]
  },
  {
   "cell_type": "markdown",
   "metadata": {},
   "source": [
    "After gathering a dataset of roughly 48,000 AIrbnb listings from Kaggle, I cleaned it, and chose the features I thought would correlate the strongest to the price of an Airbnb.\n",
    "\n",
    "Following data cleaning and feature selection, I performed EDA and decided which features to keep in the models being used. I then split the data into training and testing and analyzed the different values of the R^2 and RMSE for each model (OLS, Lasso).\n",
    "\n",
    "In the end, I compared the differnet models to see which can predict the best price of an Airbnb.\n"
   ]
  },
  {
   "cell_type": "markdown",
   "metadata": {},
   "source": [
    "## Future Steps:"
   ]
  },
  {
   "cell_type": "markdown",
   "metadata": {},
   "source": [
    "In the future, I would like to: \n",
    "\n",
    "1. Find additional data sets to merge with\n",
    "2. Investigate amount of bedrooms vs Price\n",
    "3. Seek competitive analysis with Sonder\n",
    "4. Expand landmark data engineering\n",
    "5. Integrate subway station coordinates  \n",
    "\n",
    "Adding these features will enhance the overall model as there will be a greater understanding, as well as a broader range of featres to predict a model.  \n"
   ]
  },
  {
   "cell_type": "markdown",
   "metadata": {},
   "source": [
    "## Analysis Recommendation:"
   ]
  },
  {
   "cell_type": "markdown",
   "metadata": {},
   "source": [
    "In conclusion, I can suggest that the type of room is the most statistically significant feature in determining the price of an Airbnb in New York City. The OLS model with the feature \"distance from Times Square to the Airbnb\"  is best represented to predict pricing at a New York City Airbnb. "
   ]
  },
  {
   "cell_type": "markdown",
   "metadata": {},
   "source": [
    "## Presentation Link:"
   ]
  },
  {
   "cell_type": "code",
   "execution_count": null,
   "metadata": {},
   "outputs": [],
   "source": [
    "https://docs.google.com/presentation/d/1xGW9cS4XVV_HdIq0096Q7PJ-u-a63lQQ419e4Lx0Ibo/edit?usp=sharing"
   ]
  }
 ],
 "metadata": {
  "kernelspec": {
   "display_name": "Python 3",
   "language": "python",
   "name": "python3"
  },
  "language_info": {
   "codemirror_mode": {
    "name": "ipython",
    "version": 3
   },
   "file_extension": ".py",
   "mimetype": "text/x-python",
   "name": "python",
   "nbconvert_exporter": "python",
   "pygments_lexer": "ipython3",
   "version": "3.7.6"
  }
 },
 "nbformat": 4,
 "nbformat_minor": 4
}
