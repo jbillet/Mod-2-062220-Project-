{
 "cells": [
  {
   "cell_type": "markdown",
   "metadata": {},
   "source": [
    "MODELING PROCESS/INTERPRETATION¶\n",
    "My approach to this project was to first find a data set of different Airbnb's in NYC that I could work with that had enough columns(features) for me to engineer with so that I could make the best possible prediction model. I had some prior background knowledge from experience in utilizing Airbnb's in the past, however I wanted to put that to the test to see if my predictions of certain features would directly influence my target variable(price). I was also keeping in mind the entire time the different types of graphs I could use to help visualize my various correlations.\n",
    "\n",
    "The final model I decided to use to best predict the price of Airbnb's in NYC is my Baseline OLS Model. This model had an R^2 value of 0.507 which was the greatest of all my other models, however it did not have the least amount of features(which would have been ideal for a better fitting prediction model). \n",
    "\n",
    "One feature that had an impact on my dependent variable of price was room type of the specific Airbnb. I split the room type column into dummy variables to represent the three different room types; \"Entire Home/Apartment\" being the most expensive. So my coefficients on my OLS model were based on the Entire Home/Apartment room type. People who request Private Rooms pay on average 82 dollars less than people who request Entire Home/Apartments. People who request Shared Rooms pay on average 108 dollars less than people who request Entire Home/Apartments. A second feature that had an impact on price was the metro proximity of the particular Airbnb. This was a calculation of the minimal distance between an Airbnb and the nearest transit station. People who request Airbnb's that are farther away from these stations on average pay 10 dollars less than people who request to be closer to the stations. Another feature that had an impact on price was minimum nights stayed in an Airbnb. It came with an negative coefficient of -0.3101 which means that you actually save money by booking more nights to stay in an Airbnb as opposed to just booking one or two nights(think of it as a wholesale deal). All of these features had a P value under 0.05 which means that they are all statistically significant. From this, we can say that we are 95 percent confident that our data is valuable to the model because it effects price."
   ]
  }
 ],
 "metadata": {
  "kernelspec": {
   "display_name": "Python 3",
   "language": "python",
   "name": "python3"
  },
  "language_info": {
   "codemirror_mode": {
    "name": "ipython",
    "version": 3
   },
   "file_extension": ".py",
   "mimetype": "text/x-python",
   "name": "python",
   "nbconvert_exporter": "python",
   "pygments_lexer": "ipython3",
   "version": "3.7.6"
  }
 },
 "nbformat": 4,
 "nbformat_minor": 4
}
